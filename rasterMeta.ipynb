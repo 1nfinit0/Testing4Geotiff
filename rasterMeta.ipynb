{
 "cells": [
  {
   "cell_type": "markdown",
   "metadata": {},
   "source": [
    "# Pruba de manipulación GeoTiff\n",
    "----"
   ]
  },
  {
   "cell_type": "markdown",
   "metadata": {},
   "source": [
    "Esta es un conjunto de pruebas a realizar sobre un archivo GeoTiff, con el fin de manipularlo y obtener información de él."
   ]
  },
  {
   "cell_type": "markdown",
   "metadata": {},
   "source": [
    "### 1. Cargar el archivo GeoTiff"
   ]
  },
  {
   "cell_type": "code",
   "execution_count": 1,
   "metadata": {},
   "outputs": [
    {
     "name": "stdout",
     "output_type": "stream",
     "text": [
      "Tiff cargado correctamente . . .\n"
     ]
    }
   ],
   "source": [
    "from osgeo import gdal\n",
    "import numpy as np\n",
    "\n",
    "# Habilitar excepciones de GDAL\n",
    "gdal.UseExceptions()\n",
    "\n",
    "# Ruta del archivo tiff\n",
    "rutaTiff = './rasters/muestrafinal.tiff'\n",
    "\n",
    "# Cargar el archivo tiff en la variable dataset (se aplica un try-except para capturar errores)\n",
    "try:\n",
    "    dataset = gdal.Open(rutaTiff, gdal.GA_ReadOnly)\n",
    "    if dataset is None:\n",
    "        raise Exception(\"No se pudo abrir el archivo.\")\n",
    "    print(\"Tiff cargado correctamente . . .\")\n",
    "\n",
    "    # Realiza operaciones con el dataset...\n",
    "    \n",
    "except RuntimeError as e:\n",
    "    print(\"Ocurrió un error al usar GDAL:\", e)\n",
    "except Exception as e:\n",
    "    print(\"Ocurrió un error:\", e)"
   ]
  },
  {
   "cell_type": "markdown",
   "metadata": {},
   "source": [
    "### Imprime la cantidad de bandas que tiene el archivo GeoTiff"
   ]
  },
  {
   "cell_type": "code",
   "execution_count": 2,
   "metadata": {},
   "outputs": [
    {
     "name": "stdout",
     "output_type": "stream",
     "text": [
      "4\n"
     ]
    }
   ],
   "source": [
    "bandsCount = dataset.RasterCount\n",
    "print(bandsCount)"
   ]
  },
  {
   "cell_type": "markdown",
   "metadata": {},
   "source": [
    "### Lee e imprime los metadatos de la imagen y de cada banda"
   ]
  },
  {
   "cell_type": "code",
   "execution_count": 3,
   "metadata": {},
   "outputs": [
    {
     "name": "stdout",
     "output_type": "stream",
     "text": [
      "Metadatos de la imagen en general:\n",
      "\n",
      "\t {'AREA_OR_POINT': 'Area'} \n",
      "\n",
      "Metadatos de cada banda:\n",
      "\n",
      "\tBanda 1:\n",
      "\t\t STATISTICS_MAXIMUM \t 194\n",
      "\t\t STATISTICS_MEAN \t 141.48351648352\n",
      "\t\t STATISTICS_MINIMUM \t 53\n",
      "\t\t STATISTICS_STDDEV \t 32.652133409714\n",
      "\t\t STATISTICS_VALID_PERCENT \t 100\n",
      "\n",
      "\tBanda 2:\n",
      "\t\t STATISTICS_MAXIMUM \t 187\n",
      "\t\t STATISTICS_MEAN \t 139.12087912088\n",
      "\t\t STATISTICS_MINIMUM \t 42\n",
      "\t\t STATISTICS_STDDEV \t 33.422153331183\n",
      "\t\t STATISTICS_VALID_PERCENT \t 100\n",
      "\n",
      "\tBanda 3:\n",
      "\t\t STATISTICS_MAXIMUM \t 173\n",
      "\t\t STATISTICS_MEAN \t 127.01648351648\n",
      "\t\t STATISTICS_MINIMUM \t 35\n",
      "\t\t STATISTICS_STDDEV \t 32.554345986049\n",
      "\t\t STATISTICS_VALID_PERCENT \t 100\n",
      "\n",
      "\tBanda 4:\n",
      "\t\t STATISTICS_MAXIMUM \t 255\n",
      "\t\t STATISTICS_MEAN \t 255\n",
      "\t\t STATISTICS_MINIMUM \t 255\n",
      "\t\t STATISTICS_STDDEV \t 0\n",
      "\t\t STATISTICS_VALID_PERCENT \t 100\n"
     ]
    }
   ],
   "source": [
    "datasetMetadata = dataset.GetMetadata()\n",
    "print(\"Metadatos de la imagen en general:\\n\")\n",
    "print(\"\\t\",datasetMetadata,\"\\n\")\n",
    "print(\"Metadatos de cada banda:\")\n",
    "for i in range(dataset.RasterCount):\n",
    "    print(f\"\\n\\tBanda {i+1}:\")\n",
    "    banda = dataset.GetRasterBand(i+1)\n",
    "    bandaMetadata = banda.GetMetadata()\n",
    "    for i in bandaMetadata:\n",
    "        print(\"\\t\\t\",i,\"\\t\",bandaMetadata[i],)"
   ]
  },
  {
   "cell_type": "markdown",
   "metadata": {},
   "source": [
    "### Imprime la matriz (numérica) de píxeles de cada banda"
   ]
  },
  {
   "cell_type": "code",
   "execution_count": 4,
   "metadata": {},
   "outputs": [
    {
     "name": "stdout",
     "output_type": "stream",
     "text": [
      "Banda 1:\n",
      "[[113 129 151 170 183 189 188 185 179 171 155 131 100  74]\n",
      " [115 151 175 190 194 188 178 158 174 175 165 147 124  91]\n",
      " [121 177 191 191 181 165 145 118 161 166 158 158 164 138]\n",
      " [143 186 188 182 156 118  96 114 158 147 136 151 173 161]\n",
      " [158 177 156 135 134 133  94 116 155 164 168 175 176 169]\n",
      " [170 174 130  88  87 106  87  99 129 157 159 141 132 159]\n",
      " [168 170 117  64  53  72  60  67 109 164 173 146 142 174]\n",
      " [152 165 121  70  56  70  65  88 128 168 163 138 156 182]\n",
      " [130 162 138 103  94 104 103 150 162 164 139 120 158 173]\n",
      " [117 162 159 146 142 140 123 168 151 158 159 157 177 167]\n",
      " [100 147 157 159 159 153 139 168 114 133 162 165 156 147]\n",
      " [ 82 107 129 155 169 168 163 166 149 153 158 150 129 107]\n",
      " [ 74  85  98 114 130 142 146 148 143 137 130 120 106  92]]\n",
      "Banda 2:\n",
      "[[106 120 140 157 168 172 172 173 173 169 159 141 116  94]\n",
      " [107 142 163 176 177 170 159 143 164 171 165 153 136 107]\n",
      " [113 168 179 176 163 145 125 101 149 159 156 162 173 152]\n",
      " [136 176 176 168 139  98  76  96 144 139 133 154 179 174]\n",
      " [153 170 147 124 119 114  75  99 141 155 165 177 181 179]\n",
      " [169 169 124  79  73  89  69  84 118 149 155 141 136 168]\n",
      " [169 169 114  57  42  57  46  55  99 157 170 146 145 181]\n",
      " [155 166 119  66  48  59  54  79 119 163 162 138 159 187]\n",
      " [137 166 139 102  89  96  94 141 156 160 138 121 160 176]\n",
      " [125 169 163 148 140 133 117 161 147 156 158 158 180 171]\n",
      " [111 158 165 165 162 152 136 165 114 134 164 167 160 151]\n",
      " [ 96 120 142 167 177 172 166 169 153 158 164 157 136 114]\n",
      " [ 88 101 114 129 143 152 154 154 151 146 139 130 116 102]]\n",
      "Banda 3:\n",
      "[[ 93 108 130 147 157 160 160 159 157 153 143 124  98  75]\n",
      " [ 95 130 153 167 168 160 148 131 150 156 151 138 119  89]\n",
      " [102 158 170 168 155 136 116  91 138 147 143 147 158 135]\n",
      " [125 166 168 160 132  90  67  87 133 127 121 140 165 157]\n",
      " [141 160 139 116 111 107  68  90 132 144 152 163 166 163]\n",
      " [157 159 115  72  66  82  61  75 108 138 143 128 122 153]\n",
      " [157 157 104  49  35  49  37  46  90 146 158 134 132 166]\n",
      " [142 154 109  57  40  50  45  70 110 152 150 126 145 173]\n",
      " [122 152 128  92  80  86  85 132 146 149 126 108 147 163]\n",
      " [110 154 151 138 130 123 107 151 136 144 146 146 166 157]\n",
      " [ 95 142 151 153 150 140 124 153 102 122 151 154 146 137]\n",
      " [ 79 103 127 153 164 158 152 155 140 144 150 142 121  99]\n",
      " [ 71  83  98 114 127 136 139 140 136 131 124 114 100  87]]\n",
      "Banda 4:\n",
      "[[255 255 255 255 255 255 255 255 255 255 255 255 255 255]\n",
      " [255 255 255 255 255 255 255 255 255 255 255 255 255 255]\n",
      " [255 255 255 255 255 255 255 255 255 255 255 255 255 255]\n",
      " [255 255 255 255 255 255 255 255 255 255 255 255 255 255]\n",
      " [255 255 255 255 255 255 255 255 255 255 255 255 255 255]\n",
      " [255 255 255 255 255 255 255 255 255 255 255 255 255 255]\n",
      " [255 255 255 255 255 255 255 255 255 255 255 255 255 255]\n",
      " [255 255 255 255 255 255 255 255 255 255 255 255 255 255]\n",
      " [255 255 255 255 255 255 255 255 255 255 255 255 255 255]\n",
      " [255 255 255 255 255 255 255 255 255 255 255 255 255 255]\n",
      " [255 255 255 255 255 255 255 255 255 255 255 255 255 255]\n",
      " [255 255 255 255 255 255 255 255 255 255 255 255 255 255]\n",
      " [255 255 255 255 255 255 255 255 255 255 255 255 255 255]]\n"
     ]
    }
   ],
   "source": [
    "for i in range(dataset.RasterCount):\n",
    "        print(f\"Banda {i+1}:\")\n",
    "        banda = dataset.GetRasterBand(i+1)\n",
    "        bandaArray = banda.ReadAsArray()\n",
    "        print(bandaArray)"
   ]
  },
  {
   "cell_type": "markdown",
   "metadata": {},
   "source": [
    "### Visualización de cada matriz como imagen"
   ]
  },
  {
   "cell_type": "code",
   "execution_count": 5,
   "metadata": {},
   "outputs": [
    {
     "data": {
      "image/png": "[encoded data removed]",
      "text/plain": [
       "<Figure size 640x480 with 1 Axes>"
      ]
     },
     "metadata": {},
     "output_type": "display_data"
    }
   ],
   "source": [
    "from matplotlib import pyplot as plt\n",
    "banda1 = dataset.GetRasterBand(1).ReadAsArray()\n",
    "banda2 = dataset.GetRasterBand(2).ReadAsArray()\n",
    "banda3 = dataset.GetRasterBand(3).ReadAsArray()\n",
    "\n",
    "bandaStack = np.stack((banda1,banda2,banda3), axis=-1)\n",
    "plt.imshow(bandaStack)\n",
    "plt.show()"
   ]
  },
  {
   "cell_type": "code",
   "execution_count": 6,
   "metadata": {},
   "outputs": [
    {
     "data": {
      "image/png": "[encoded data removed]",
      "text/plain": [
       "<Figure size 640x480 with 2 Axes>"
      ]
     },
     "metadata": {},
     "output_type": "display_data"
    }
   ],
   "source": [
    "banda = dataset.GetRasterBand(1)\n",
    "bandaArray = banda.ReadAsArray()\n",
    "plt.imshow(bandaArray, cmap='gray', vmin=0, vmax=255)\n",
    "plt.colorbar()\n",
    "plt.show()"
   ]
  }
 ],
 "metadata": {
  "kernelspec": {
   "display_name": "base",
   "language": "python",
   "name": "python3"
  },
  "language_info": {
   "codemirror_mode": {
    "name": "ipython",
    "version": 3
   },
   "file_extension": ".py",
   "mimetype": "text/x-python",
   "name": "python",
   "nbconvert_exporter": "python",
   "pygments_lexer": "ipython3",
   "version": "3.12.7"
  }
 },
 "nbformat": 4,
 "nbformat_minor": 2
}
